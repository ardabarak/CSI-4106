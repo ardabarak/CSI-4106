{
  "cells": [
    {
      "cell_type": "markdown",
      "metadata": {},
      "source": [
        "**CSI 4106 Introduction to Artificial Intelligence** <br/>\n",
        "*Assignment 2: Machine Learning*\n",
        "\n",
        "# Identification\n",
        "\n",
        "Name:           Arda Barak <br/>\n",
        "Student Number: 300129340\n",
        "\n",
        "Name: <br/>\n",
        "Student Number:\n",
        "\n",
        "# 1. Exploratory Analysis\n",
        "\n",
        "## Data Exploration\n",
        "\n",
        "In this assignment, we will utilize the Diabetes Prediction Dataset, accessible via [Diabetes Prediction Dataset](https://www.kaggle.com/datasets/iammustafatz/diabetes-prediction-dataset/data). To mitigate the complexity associated with Kaggle's login requirement, the dataset has been made available on a public GitHub repository:\n",
        "\n",
        "- [github.com/turcotte/csi4106-f24/tree/main/assignments-data/a2](https://github.com/turcotte/csi4106-f24/tree/main/assignments-data/a2)\n",
        "\n",
        "You can access and read the dataset directly from this GitHub repository in your Jupyter notebook."
      ]
    },
    {
      "cell_type": "code",
      "execution_count": 91,
      "metadata": {},
      "outputs": [],
      "source": [
        "try:\n",
        "    import pandas as pd\n",
        "    import matplotlib.pyplot as plt\n",
        "    import seaborn as sns\n",
        "    from sklearn.preprocessing import StandardScaler\n",
        "    from sklearn.preprocessing import MinMaxScaler\n",
        "    from sklearn.model_selection import train_test_split\n",
        "    from sklearn.tree import DecisionTreeClassifier\n",
        "    from sklearn.metrics import accuracy_score\n",
        "    from sklearn.neighbors import KNeighborsClassifier\n",
        "    from sklearn.linear_model import LogisticRegression\n",
        "    from sklearn.model_selection import cross_val_score, cross_val_predict\n",
        "    from sklearn.metrics import precision_score, recall_score, f1_score, classification_report\n",
        "    from sklearn.model_selection import GridSearchCV\n",
        "\n",
        "except ImportError:\n",
        "    %pip install pandas \n",
        "    %pip install seaborn \n",
        "    %pip install matplotlib \n",
        "    %pip install scikit-learn\n",
        "    \n",
        "    import pandas as pd\n",
        "    import matplotlib.pyplot as plt\n",
        "    import seaborn as sns\n",
        "    from sklearn.preprocessing import StandardScaler\n",
        "    from sklearn.preprocessing import MinMaxScaler\n",
        "    from sklearn.model_selection import train_test_split\n",
        "    from sklearn.tree import DecisionTreeClassifier\n",
        "    from sklearn.metrics import accuracy_score\n",
        "    from sklearn.neighbors import KNeighborsClassifier\n",
        "    from sklearn.linear_model import LogisticRegression\n",
        "    from sklearn.model_selection import cross_val_score, cross_val_predict\n",
        "    from sklearn.metrics import precision_score, recall_score, f1_score, classification_report\n",
        "    from sklearn.model_selection import GridSearchCV\n",
        "\n",
        "sns.set_style(\"darkgrid\")"
      ]
    },
    {
      "cell_type": "markdown",
      "metadata": {},
      "source": [
        "1. **Load the dataset and provide a summary of its structure**:\n",
        "\n",
        "    - Describe the features (columns), their data types, and the target variable."
      ]
    },
    {
      "cell_type": "code",
      "execution_count": 92,
      "metadata": {},
      "outputs": [
        {
          "data": {
            "text/html": [
              "<div>\n",
              "<style scoped>\n",
              "    .dataframe tbody tr th:only-of-type {\n",
              "        vertical-align: middle;\n",
              "    }\n",
              "\n",
              "    .dataframe tbody tr th {\n",
              "        vertical-align: top;\n",
              "    }\n",
              "\n",
              "    .dataframe thead th {\n",
              "        text-align: right;\n",
              "    }\n",
              "</style>\n",
              "<table border=\"1\" class=\"dataframe\">\n",
              "  <thead>\n",
              "    <tr style=\"text-align: right;\">\n",
              "      <th></th>\n",
              "      <th>gender</th>\n",
              "      <th>age</th>\n",
              "      <th>hypertension</th>\n",
              "      <th>heart_disease</th>\n",
              "      <th>smoking_history</th>\n",
              "      <th>bmi</th>\n",
              "      <th>HbA1c_level</th>\n",
              "      <th>blood_glucose_level</th>\n",
              "      <th>diabetes</th>\n",
              "    </tr>\n",
              "  </thead>\n",
              "  <tbody>\n",
              "    <tr>\n",
              "      <th>0</th>\n",
              "      <td>Female</td>\n",
              "      <td>80.0</td>\n",
              "      <td>0</td>\n",
              "      <td>1</td>\n",
              "      <td>never</td>\n",
              "      <td>25.19</td>\n",
              "      <td>6.6</td>\n",
              "      <td>140</td>\n",
              "      <td>0</td>\n",
              "    </tr>\n",
              "    <tr>\n",
              "      <th>1</th>\n",
              "      <td>Female</td>\n",
              "      <td>54.0</td>\n",
              "      <td>0</td>\n",
              "      <td>0</td>\n",
              "      <td>No Info</td>\n",
              "      <td>27.32</td>\n",
              "      <td>6.6</td>\n",
              "      <td>80</td>\n",
              "      <td>0</td>\n",
              "    </tr>\n",
              "    <tr>\n",
              "      <th>2</th>\n",
              "      <td>Male</td>\n",
              "      <td>28.0</td>\n",
              "      <td>0</td>\n",
              "      <td>0</td>\n",
              "      <td>never</td>\n",
              "      <td>27.32</td>\n",
              "      <td>5.7</td>\n",
              "      <td>158</td>\n",
              "      <td>0</td>\n",
              "    </tr>\n",
              "    <tr>\n",
              "      <th>3</th>\n",
              "      <td>Female</td>\n",
              "      <td>36.0</td>\n",
              "      <td>0</td>\n",
              "      <td>0</td>\n",
              "      <td>current</td>\n",
              "      <td>23.45</td>\n",
              "      <td>5.0</td>\n",
              "      <td>155</td>\n",
              "      <td>0</td>\n",
              "    </tr>\n",
              "    <tr>\n",
              "      <th>4</th>\n",
              "      <td>Male</td>\n",
              "      <td>76.0</td>\n",
              "      <td>1</td>\n",
              "      <td>1</td>\n",
              "      <td>current</td>\n",
              "      <td>20.14</td>\n",
              "      <td>4.8</td>\n",
              "      <td>155</td>\n",
              "      <td>0</td>\n",
              "    </tr>\n",
              "  </tbody>\n",
              "</table>\n",
              "</div>"
            ],
            "text/plain": [
              "   gender   age  hypertension  heart_disease smoking_history    bmi  \\\n",
              "0  Female  80.0             0              1           never  25.19   \n",
              "1  Female  54.0             0              0         No Info  27.32   \n",
              "2    Male  28.0             0              0           never  27.32   \n",
              "3  Female  36.0             0              0         current  23.45   \n",
              "4    Male  76.0             1              1         current  20.14   \n",
              "\n",
              "   HbA1c_level  blood_glucose_level  diabetes  \n",
              "0          6.6                  140         0  \n",
              "1          6.6                   80         0  \n",
              "2          5.7                  158         0  \n",
              "3          5.0                  155         0  \n",
              "4          4.8                  155         0  "
            ]
          },
          "execution_count": 92,
          "metadata": {},
          "output_type": "execute_result"
        }
      ],
      "source": [
        "dataSetUrl =      \"https://raw.githubusercontent.com/turcotte/csi4106-f24/refs/heads/main/assignments-data/a2/diabetes_prediction_dataset.csv\"\n",
        "\n",
        "dataSet = pd.read_csv(dataSetUrl)\n",
        "\n",
        "dataSet.head()"
      ]
    },
    {
      "cell_type": "code",
      "execution_count": 93,
      "metadata": {},
      "outputs": [
        {
          "name": "stdout",
          "output_type": "stream",
          "text": [
            "gender                  object\n",
            "age                    float64\n",
            "hypertension             int64\n",
            "heart_disease            int64\n",
            "smoking_history         object\n",
            "bmi                    float64\n",
            "HbA1c_level            float64\n",
            "blood_glucose_level      int64\n",
            "diabetes                 int64\n",
            "dtype: object\n"
          ]
        }
      ],
      "source": [
        "categoricFeatures = ['gender',  'smoking_history']\n",
        "numericalFeatures = ['age', 'bmi', 'HbA1c_level', 'blood_glucose_level']\n",
        "\n",
        "print(dataSet.dtypes)"
      ]
    },
    {
      "cell_type": "markdown",
      "metadata": {},
      "source": [
        "\n",
        "Our dataset is of 9 features, as can be seen below;\n",
        "|Var Name             | Var Type                  | Data Type  | \n",
        "|---------------------|:-------------------------:|:----------:|\n",
        "|gender\t                |   Categorical          | string     |\n",
        "|age\t                |   Numerical            | float64    |\n",
        "|hypertension\t        |   Categorical/Binary   | int64      |\n",
        "|heart_disease\t        |   Categorical/Binary   | int64      |\n",
        "|smoking_history\t    |   Categorical          | string     |\n",
        "|bmi\t                |   Numerical            | float64    |\n",
        "|HbA1c_level\t        |   Numeracal            | float64    |\n",
        "|blood_glucose_level\t|   Numerical            | int64      |\n",
        "|diabetes               |   Binary               | int64      |\n",
        "\n",
        "TARGET VARIABLE       :   diabetes\n"
      ]
    },
    {
      "cell_type": "markdown",
      "metadata": {},
      "source": [
        "2. **Feature Distribution Analysis**:\n",
        "\n",
        "    - Examine the distribution of each feature using appropriate visualizations such as histograms and boxplots. Discuss insights gained, including the presence of outliers."
      ]
    },
    {
      "cell_type": "code",
      "execution_count": 94,
      "metadata": {},
      "outputs": [
        {
          "data": {
            "image/png": "[encoded data removed]",
            "text/plain": [
              "<Figure size 1500x500 with 4 Axes>"
            ]
          },
          "metadata": {},
          "output_type": "display_data"
        },
        {
          "data": {
            "image/png": "[encoded data removed]",
            "text/plain": [
              "<Figure size 1500x500 with 1 Axes>"
            ]
          },
          "metadata": {},
          "output_type": "display_data"
        },
        {
          "data": {
            "image/png": "[encoded data removed]",
            "text/plain": [
              "<Figure size 1500x500 with 1 Axes>"
            ]
          },
          "metadata": {},
          "output_type": "display_data"
        },
        {
          "data": {
            "image/png": "[encoded data removed]",
            "text/plain": [
              "<Figure size 1500x500 with 1 Axes>"
            ]
          },
          "metadata": {},
          "output_type": "display_data"
        },
        {
          "data": {
            "image/png": "[encoded data removed]",
            "text/plain": [
              "<Figure size 1500x500 with 1 Axes>"
            ]
          },
          "metadata": {},
          "output_type": "display_data"
        },
        {
          "name": "stdout",
          "output_type": "stream",
          "text": [
            "Skewness of age: -0.05197899678256747\n",
            "Skewness of bmi: 1.0438355183081105\n",
            "Skewness of HbA1c_level: -0.0668537611478635\n",
            "Skewness of blood_glucose_level: 0.8216549517517585\n"
          ]
        }
      ],
      "source": [
        "#Histogram\n",
        "dataSet[numericalFeatures].hist(bins=25, figsize=(15, 5))\n",
        "plt.show()\n",
        "\n",
        "#Boxplot\n",
        "for features in numericalFeatures:\n",
        "    plt.figure(figsize=(15,5))\n",
        "    plt.subplot(1,2,2)\n",
        "    plt.title(f\"Boxplot of {features.capitalize()}\")\n",
        "    sns.boxplot(x=dataSet[features])\n",
        "plt.show()\n",
        "\n",
        "#Skewness\n",
        "for feature in numericalFeatures:\n",
        "    skewness = dataSet[feature].skew()\n",
        "    print(f'Skewness of {feature}: {skewness}')"
      ]
    },
    {
      "cell_type": "markdown",
      "metadata": {},
      "source": [
        "| FEATURES:             |   RESULTS |\n",
        "|-----------------------|-----------|\n",
        "|Age:                    |multimodal distribution                                                           |\n",
        "|skewness:               |-0.05197899678256747      (approximately normal or mildly skewed)                 |\n",
        "|outliers:               |no outliers                                                                       |\n",
        "\n",
        "| FEATURES:             |   RESULTS |\n",
        "|-----------------------|-----------|\n",
        "|Bmi:                    |right skewed distribution (with long tail on the right side)                      |\n",
        "|skewness:               |1.0438355183081105        (highly positively skewed)                              |\n",
        "|outliers:               |exist both above and below the min and max values                                 |\n",
        "\n",
        "| FEATURES:             |   RESULTS |\n",
        "|-----------------------|-----------|\n",
        "|HbA1c_level:            |bimodal distribution                                                              |\n",
        "|skewness:               |-0.0668537611478635       (approximately normal or mildly skewed)                 |\n",
        "|outliers:               |exist above the max value                                                         |\n",
        "\n",
        "| FEATURES:             |   RESULTS |\n",
        "|-----------------------|-----------|\n",
        "|blood_glucose_level:    |multimodal distribution                                                           |\n",
        "|skewness:               |0.8216549517517585        (approximately normal or mildly skewed)                 |\n",
        "|outliers:               |exist above the max value                                                         |\n",
        "\n"
      ]
    },
    {
      "cell_type": "markdown",
      "metadata": {},
      "source": [
        "3. **Target Variable Distribution**:\n",
        "\n",
        "    - Analyze the distribution of the target variable to identify class imbalances. Use bar plots to visualize the class frequencies."
      ]
    },
    {
      "cell_type": "code",
      "execution_count": 95,
      "metadata": {},
      "outputs": [
        {
          "data": {
            "image/png": "[encoded data removed]",
            "text/plain": [
              "<Figure size 600x400 with 1 Axes>"
            ]
          },
          "metadata": {},
          "output_type": "display_data"
        }
      ],
      "source": [
        "#total times it occurred\n",
        "classFrequencies = dataSet[\"diabetes\"].value_counts()\n",
        "\n",
        "#bar plot to visualise\n",
        "plt.figure(figsize=(6,4))\n",
        "sns.barplot(x=classFrequencies.index, y=classFrequencies.values)\n",
        "plt.title(\"Diabetes distribution\")\n",
        "plt.xlabel(\"Diabetes(0-Binary-1)\")\n",
        "plt.ylabel(\"Number of people\")\n",
        "plt.show()"
      ]
    },
    {
      "cell_type": "code",
      "execution_count": 96,
      "metadata": {},
      "outputs": [
        {
          "name": "stdout",
          "output_type": "stream",
          "text": [
            "diabetes\n",
            "0    91500\n",
            "1     8500\n",
            "Name: count, dtype: int64\n"
          ]
        }
      ],
      "source": [
        "print(classFrequencies)"
      ]
    },
    {
      "cell_type": "markdown",
      "metadata": {},
      "source": [
        "Result: \n",
        "- there's a significant class imbalance in our target class as the numbers of No(0) occured(91500) are significantly greater than of Yes(1) (8500) as can also be seen in our bar plot."
      ]
    },
    {
      "cell_type": "markdown",
      "metadata": {},
      "source": [
        "4. **Data Splitting**:\n",
        "\n",
        "    - Split the dataset into training (80%) and test (20%) sets using the holdout method.\n",
        "\n",
        "    - Ensure that this split occurs before any preprocessing to avoid data leakage."
      ]
    },
    {
      "cell_type": "code",
      "execution_count": 97,
      "metadata": {},
      "outputs": [
        {
          "name": "stdout",
          "output_type": "stream",
          "text": [
            "Training set size: (80000, 8)\n",
            "Test set size: (20000, 8)\n"
          ]
        }
      ],
      "source": [
        "x = dataSet.drop('diabetes', axis=1)\n",
        "y = dataSet['diabetes']\n",
        "\n",
        "#splitting to 80%train - 20% test\n",
        "xTrain, xTest, yTrain, yTest = train_test_split(x, y, test_size=0.2, random_state=42)\n",
        "\n",
        "print(\"Training set size:\", xTrain.shape)  #should be %80\n",
        "print(\"Test set size:\", xTest.shape)       #should be %20"
      ]
    },
    {
      "cell_type": "code",
      "execution_count": 98,
      "metadata": {},
      "outputs": [
        {
          "data": {
            "text/html": [
              "<div>\n",
              "<style scoped>\n",
              "    .dataframe tbody tr th:only-of-type {\n",
              "        vertical-align: middle;\n",
              "    }\n",
              "\n",
              "    .dataframe tbody tr th {\n",
              "        vertical-align: top;\n",
              "    }\n",
              "\n",
              "    .dataframe thead th {\n",
              "        text-align: right;\n",
              "    }\n",
              "</style>\n",
              "<table border=\"1\" class=\"dataframe\">\n",
              "  <thead>\n",
              "    <tr style=\"text-align: right;\">\n",
              "      <th></th>\n",
              "      <th>gender</th>\n",
              "      <th>age</th>\n",
              "      <th>hypertension</th>\n",
              "      <th>heart_disease</th>\n",
              "      <th>smoking_history</th>\n",
              "      <th>bmi</th>\n",
              "      <th>HbA1c_level</th>\n",
              "      <th>blood_glucose_level</th>\n",
              "    </tr>\n",
              "  </thead>\n",
              "  <tbody>\n",
              "    <tr>\n",
              "      <th>75721</th>\n",
              "      <td>Female</td>\n",
              "      <td>13.0</td>\n",
              "      <td>0</td>\n",
              "      <td>0</td>\n",
              "      <td>No Info</td>\n",
              "      <td>20.82</td>\n",
              "      <td>5.8</td>\n",
              "      <td>126</td>\n",
              "    </tr>\n",
              "    <tr>\n",
              "      <th>80184</th>\n",
              "      <td>Female</td>\n",
              "      <td>3.0</td>\n",
              "      <td>0</td>\n",
              "      <td>0</td>\n",
              "      <td>No Info</td>\n",
              "      <td>21.00</td>\n",
              "      <td>5.0</td>\n",
              "      <td>145</td>\n",
              "    </tr>\n",
              "    <tr>\n",
              "      <th>19864</th>\n",
              "      <td>Male</td>\n",
              "      <td>63.0</td>\n",
              "      <td>0</td>\n",
              "      <td>0</td>\n",
              "      <td>former</td>\n",
              "      <td>25.32</td>\n",
              "      <td>3.5</td>\n",
              "      <td>200</td>\n",
              "    </tr>\n",
              "    <tr>\n",
              "      <th>76699</th>\n",
              "      <td>Female</td>\n",
              "      <td>2.0</td>\n",
              "      <td>0</td>\n",
              "      <td>0</td>\n",
              "      <td>never</td>\n",
              "      <td>17.43</td>\n",
              "      <td>6.1</td>\n",
              "      <td>126</td>\n",
              "    </tr>\n",
              "    <tr>\n",
              "      <th>92991</th>\n",
              "      <td>Female</td>\n",
              "      <td>33.0</td>\n",
              "      <td>0</td>\n",
              "      <td>0</td>\n",
              "      <td>not current</td>\n",
              "      <td>40.08</td>\n",
              "      <td>6.2</td>\n",
              "      <td>200</td>\n",
              "    </tr>\n",
              "  </tbody>\n",
              "</table>\n",
              "</div>"
            ],
            "text/plain": [
              "       gender   age  hypertension  heart_disease smoking_history    bmi  \\\n",
              "75721  Female  13.0             0              0         No Info  20.82   \n",
              "80184  Female   3.0             0              0         No Info  21.00   \n",
              "19864    Male  63.0             0              0          former  25.32   \n",
              "76699  Female   2.0             0              0           never  17.43   \n",
              "92991  Female  33.0             0              0     not current  40.08   \n",
              "\n",
              "       HbA1c_level  blood_glucose_level  \n",
              "75721          5.8                  126  \n",
              "80184          5.0                  145  \n",
              "19864          3.5                  200  \n",
              "76699          6.1                  126  \n",
              "92991          6.2                  200  "
            ]
          },
          "execution_count": 98,
          "metadata": {},
          "output_type": "execute_result"
        }
      ],
      "source": [
        "# visualizing the data split\n",
        "xTest.head()"
      ]
    },
    {
      "cell_type": "code",
      "execution_count": 99,
      "metadata": {},
      "outputs": [
        {
          "data": {
            "text/html": [
              "<div>\n",
              "<style scoped>\n",
              "    .dataframe tbody tr th:only-of-type {\n",
              "        vertical-align: middle;\n",
              "    }\n",
              "\n",
              "    .dataframe tbody tr th {\n",
              "        vertical-align: top;\n",
              "    }\n",
              "\n",
              "    .dataframe thead th {\n",
              "        text-align: right;\n",
              "    }\n",
              "</style>\n",
              "<table border=\"1\" class=\"dataframe\">\n",
              "  <thead>\n",
              "    <tr style=\"text-align: right;\">\n",
              "      <th></th>\n",
              "      <th>gender</th>\n",
              "      <th>age</th>\n",
              "      <th>hypertension</th>\n",
              "      <th>heart_disease</th>\n",
              "      <th>smoking_history</th>\n",
              "      <th>bmi</th>\n",
              "      <th>HbA1c_level</th>\n",
              "      <th>blood_glucose_level</th>\n",
              "    </tr>\n",
              "  </thead>\n",
              "  <tbody>\n",
              "    <tr>\n",
              "      <th>75220</th>\n",
              "      <td>Male</td>\n",
              "      <td>73.0</td>\n",
              "      <td>0</td>\n",
              "      <td>0</td>\n",
              "      <td>former</td>\n",
              "      <td>24.77</td>\n",
              "      <td>3.5</td>\n",
              "      <td>80</td>\n",
              "    </tr>\n",
              "    <tr>\n",
              "      <th>48955</th>\n",
              "      <td>Male</td>\n",
              "      <td>80.0</td>\n",
              "      <td>0</td>\n",
              "      <td>0</td>\n",
              "      <td>never</td>\n",
              "      <td>24.60</td>\n",
              "      <td>5.7</td>\n",
              "      <td>145</td>\n",
              "    </tr>\n",
              "    <tr>\n",
              "      <th>44966</th>\n",
              "      <td>Female</td>\n",
              "      <td>38.0</td>\n",
              "      <td>0</td>\n",
              "      <td>0</td>\n",
              "      <td>ever</td>\n",
              "      <td>24.33</td>\n",
              "      <td>4.0</td>\n",
              "      <td>158</td>\n",
              "    </tr>\n",
              "    <tr>\n",
              "      <th>13568</th>\n",
              "      <td>Female</td>\n",
              "      <td>26.0</td>\n",
              "      <td>0</td>\n",
              "      <td>0</td>\n",
              "      <td>not current</td>\n",
              "      <td>18.87</td>\n",
              "      <td>5.0</td>\n",
              "      <td>100</td>\n",
              "    </tr>\n",
              "    <tr>\n",
              "      <th>92727</th>\n",
              "      <td>Female</td>\n",
              "      <td>61.0</td>\n",
              "      <td>1</td>\n",
              "      <td>0</td>\n",
              "      <td>current</td>\n",
              "      <td>22.11</td>\n",
              "      <td>4.5</td>\n",
              "      <td>85</td>\n",
              "    </tr>\n",
              "  </tbody>\n",
              "</table>\n",
              "</div>"
            ],
            "text/plain": [
              "       gender   age  hypertension  heart_disease smoking_history    bmi  \\\n",
              "75220    Male  73.0             0              0          former  24.77   \n",
              "48955    Male  80.0             0              0           never  24.60   \n",
              "44966  Female  38.0             0              0            ever  24.33   \n",
              "13568  Female  26.0             0              0     not current  18.87   \n",
              "92727  Female  61.0             1              0         current  22.11   \n",
              "\n",
              "       HbA1c_level  blood_glucose_level  \n",
              "75220          3.5                   80  \n",
              "48955          5.7                  145  \n",
              "44966          4.0                  158  \n",
              "13568          5.0                  100  \n",
              "92727          4.5                   85  "
            ]
          },
          "execution_count": 99,
          "metadata": {},
          "output_type": "execute_result"
        }
      ],
      "source": [
        "xTrain.head()"
      ]
    },
    {
      "cell_type": "code",
      "execution_count": 100,
      "metadata": {},
      "outputs": [
        {
          "data": {
            "text/plain": [
              "75721    0\n",
              "80184    0\n",
              "19864    0\n",
              "76699    0\n",
              "92991    1\n",
              "Name: diabetes, dtype: int64"
            ]
          },
          "execution_count": 100,
          "metadata": {},
          "output_type": "execute_result"
        }
      ],
      "source": [
        "yTest.head()"
      ]
    },
    {
      "cell_type": "code",
      "execution_count": 101,
      "metadata": {},
      "outputs": [
        {
          "data": {
            "text/plain": [
              "75220    0\n",
              "48955    1\n",
              "44966    0\n",
              "13568    0\n",
              "92727    0\n",
              "Name: diabetes, dtype: int64"
            ]
          },
          "execution_count": 101,
          "metadata": {},
          "output_type": "execute_result"
        }
      ],
      "source": [
        "yTrain.head()"
      ]
    },
    {
      "cell_type": "markdown",
      "metadata": {},
      "source": [
        "## Data Pre-Processing\n",
        "\n",
        "5. **Categorical Variable Encoding**:\n",
        "\n",
        "    - Encode any categorical variables. Justify the chosen method."
      ]
    },
    {
      "cell_type": "code",
      "execution_count": 102,
      "metadata": {},
      "outputs": [],
      "source": [
        "categoricFeature1 = ['gender']\n",
        "categoricFeature2 = ['smoking_history']\n",
        "\n",
        "# xTest = preProcFunct(xTest)\n",
        "xTest = pd.get_dummies(xTest, columns=categoricFeature1, dtype=int)                   #onehot for gender\n",
        "xTest = xTest.drop('gender_Other', axis=1)                                            #dropping the extra dummy variable as it is not needed in the binary female/male\n",
        "xTest = pd.get_dummies(xTest, columns=categoricFeature2, drop_first=0, dtype=int)     #for smoking_history\n",
        "\n",
        "# xTrain = preProcFunct(xTrain)\n",
        "xTrain = pd.get_dummies(xTrain, columns=categoricFeature1, dtype=int)                 #onehot for gender\n",
        "xTrain = xTrain.drop('gender_Other', axis=1)                                          #dropping the extra dummy variable as it is not needed in the binary female/male\n",
        "xTrain = pd.get_dummies(xTrain, columns=categoricFeature2, drop_first=0, dtype=int)   #for smoking_history"
      ]
    },
    {
      "cell_type": "markdown",
      "metadata": {},
      "source": [
        "Explantion:  \n",
        "* I have applied one hot encoding to my variables in the features: \"gender\" and \"smoking_history\" as they are not written as numerical or binary in my dataset."
      ]
    },
    {
      "cell_type": "code",
      "execution_count": 103,
      "metadata": {},
      "outputs": [
        {
          "data": {
            "text/html": [
              "<div>\n",
              "<style scoped>\n",
              "    .dataframe tbody tr th:only-of-type {\n",
              "        vertical-align: middle;\n",
              "    }\n",
              "\n",
              "    .dataframe tbody tr th {\n",
              "        vertical-align: top;\n",
              "    }\n",
              "\n",
              "    .dataframe thead th {\n",
              "        text-align: right;\n",
              "    }\n",
              "</style>\n",
              "<table border=\"1\" class=\"dataframe\">\n",
              "  <thead>\n",
              "    <tr style=\"text-align: right;\">\n",
              "      <th></th>\n",
              "      <th>age</th>\n",
              "      <th>hypertension</th>\n",
              "      <th>heart_disease</th>\n",
              "      <th>bmi</th>\n",
              "      <th>HbA1c_level</th>\n",
              "      <th>blood_glucose_level</th>\n",
              "      <th>gender_Female</th>\n",
              "      <th>gender_Male</th>\n",
              "      <th>smoking_history_No Info</th>\n",
              "      <th>smoking_history_current</th>\n",
              "      <th>smoking_history_ever</th>\n",
              "      <th>smoking_history_former</th>\n",
              "      <th>smoking_history_never</th>\n",
              "      <th>smoking_history_not current</th>\n",
              "    </tr>\n",
              "  </thead>\n",
              "  <tbody>\n",
              "    <tr>\n",
              "      <th>75721</th>\n",
              "      <td>13.0</td>\n",
              "      <td>0</td>\n",
              "      <td>0</td>\n",
              "      <td>20.82</td>\n",
              "      <td>5.8</td>\n",
              "      <td>126</td>\n",
              "      <td>1</td>\n",
              "      <td>0</td>\n",
              "      <td>1</td>\n",
              "      <td>0</td>\n",
              "      <td>0</td>\n",
              "      <td>0</td>\n",
              "      <td>0</td>\n",
              "      <td>0</td>\n",
              "    </tr>\n",
              "    <tr>\n",
              "      <th>80184</th>\n",
              "      <td>3.0</td>\n",
              "      <td>0</td>\n",
              "      <td>0</td>\n",
              "      <td>21.00</td>\n",
              "      <td>5.0</td>\n",
              "      <td>145</td>\n",
              "      <td>1</td>\n",
              "      <td>0</td>\n",
              "      <td>1</td>\n",
              "      <td>0</td>\n",
              "      <td>0</td>\n",
              "      <td>0</td>\n",
              "      <td>0</td>\n",
              "      <td>0</td>\n",
              "    </tr>\n",
              "    <tr>\n",
              "      <th>19864</th>\n",
              "      <td>63.0</td>\n",
              "      <td>0</td>\n",
              "      <td>0</td>\n",
              "      <td>25.32</td>\n",
              "      <td>3.5</td>\n",
              "      <td>200</td>\n",
              "      <td>0</td>\n",
              "      <td>1</td>\n",
              "      <td>0</td>\n",
              "      <td>0</td>\n",
              "      <td>0</td>\n",
              "      <td>1</td>\n",
              "      <td>0</td>\n",
              "      <td>0</td>\n",
              "    </tr>\n",
              "    <tr>\n",
              "      <th>76699</th>\n",
              "      <td>2.0</td>\n",
              "      <td>0</td>\n",
              "      <td>0</td>\n",
              "      <td>17.43</td>\n",
              "      <td>6.1</td>\n",
              "      <td>126</td>\n",
              "      <td>1</td>\n",
              "      <td>0</td>\n",
              "      <td>0</td>\n",
              "      <td>0</td>\n",
              "      <td>0</td>\n",
              "      <td>0</td>\n",
              "      <td>1</td>\n",
              "      <td>0</td>\n",
              "    </tr>\n",
              "    <tr>\n",
              "      <th>92991</th>\n",
              "      <td>33.0</td>\n",
              "      <td>0</td>\n",
              "      <td>0</td>\n",
              "      <td>40.08</td>\n",
              "      <td>6.2</td>\n",
              "      <td>200</td>\n",
              "      <td>1</td>\n",
              "      <td>0</td>\n",
              "      <td>0</td>\n",
              "      <td>0</td>\n",
              "      <td>0</td>\n",
              "      <td>0</td>\n",
              "      <td>0</td>\n",
              "      <td>1</td>\n",
              "    </tr>\n",
              "  </tbody>\n",
              "</table>\n",
              "</div>"
            ],
            "text/plain": [
              "        age  hypertension  heart_disease    bmi  HbA1c_level  \\\n",
              "75721  13.0             0              0  20.82          5.8   \n",
              "80184   3.0             0              0  21.00          5.0   \n",
              "19864  63.0             0              0  25.32          3.5   \n",
              "76699   2.0             0              0  17.43          6.1   \n",
              "92991  33.0             0              0  40.08          6.2   \n",
              "\n",
              "       blood_glucose_level  gender_Female  gender_Male  \\\n",
              "75721                  126              1            0   \n",
              "80184                  145              1            0   \n",
              "19864                  200              0            1   \n",
              "76699                  126              1            0   \n",
              "92991                  200              1            0   \n",
              "\n",
              "       smoking_history_No Info  smoking_history_current  smoking_history_ever  \\\n",
              "75721                        1                        0                     0   \n",
              "80184                        1                        0                     0   \n",
              "19864                        0                        0                     0   \n",
              "76699                        0                        0                     0   \n",
              "92991                        0                        0                     0   \n",
              "\n",
              "       smoking_history_former  smoking_history_never  \\\n",
              "75721                       0                      0   \n",
              "80184                       0                      0   \n",
              "19864                       1                      0   \n",
              "76699                       0                      1   \n",
              "92991                       0                      0   \n",
              "\n",
              "       smoking_history_not current  \n",
              "75721                            0  \n",
              "80184                            0  \n",
              "19864                            0  \n",
              "76699                            0  \n",
              "92991                            1  "
            ]
          },
          "execution_count": 103,
          "metadata": {},
          "output_type": "execute_result"
        }
      ],
      "source": [
        "# visualising the categorical encoding\n",
        "xTest.head()"
      ]
    },
    {
      "cell_type": "code",
      "execution_count": 104,
      "metadata": {},
      "outputs": [
        {
          "data": {
            "text/plain": [
              "75721    0\n",
              "80184    0\n",
              "19864    0\n",
              "76699    0\n",
              "92991    1\n",
              "Name: diabetes, dtype: int64"
            ]
          },
          "execution_count": 104,
          "metadata": {},
          "output_type": "execute_result"
        }
      ],
      "source": [
        "yTest.head()"
      ]
    },
    {
      "cell_type": "code",
      "execution_count": 105,
      "metadata": {},
      "outputs": [
        {
          "data": {
            "text/html": [
              "<div>\n",
              "<style scoped>\n",
              "    .dataframe tbody tr th:only-of-type {\n",
              "        vertical-align: middle;\n",
              "    }\n",
              "\n",
              "    .dataframe tbody tr th {\n",
              "        vertical-align: top;\n",
              "    }\n",
              "\n",
              "    .dataframe thead th {\n",
              "        text-align: right;\n",
              "    }\n",
              "</style>\n",
              "<table border=\"1\" class=\"dataframe\">\n",
              "  <thead>\n",
              "    <tr style=\"text-align: right;\">\n",
              "      <th></th>\n",
              "      <th>age</th>\n",
              "      <th>hypertension</th>\n",
              "      <th>heart_disease</th>\n",
              "      <th>bmi</th>\n",
              "      <th>HbA1c_level</th>\n",
              "      <th>blood_glucose_level</th>\n",
              "      <th>gender_Female</th>\n",
              "      <th>gender_Male</th>\n",
              "      <th>smoking_history_No Info</th>\n",
              "      <th>smoking_history_current</th>\n",
              "      <th>smoking_history_ever</th>\n",
              "      <th>smoking_history_former</th>\n",
              "      <th>smoking_history_never</th>\n",
              "      <th>smoking_history_not current</th>\n",
              "    </tr>\n",
              "  </thead>\n",
              "  <tbody>\n",
              "    <tr>\n",
              "      <th>75220</th>\n",
              "      <td>73.0</td>\n",
              "      <td>0</td>\n",
              "      <td>0</td>\n",
              "      <td>24.77</td>\n",
              "      <td>3.5</td>\n",
              "      <td>80</td>\n",
              "      <td>0</td>\n",
              "      <td>1</td>\n",
              "      <td>0</td>\n",
              "      <td>0</td>\n",
              "      <td>0</td>\n",
              "      <td>1</td>\n",
              "      <td>0</td>\n",
              "      <td>0</td>\n",
              "    </tr>\n",
              "    <tr>\n",
              "      <th>48955</th>\n",
              "      <td>80.0</td>\n",
              "      <td>0</td>\n",
              "      <td>0</td>\n",
              "      <td>24.60</td>\n",
              "      <td>5.7</td>\n",
              "      <td>145</td>\n",
              "      <td>0</td>\n",
              "      <td>1</td>\n",
              "      <td>0</td>\n",
              "      <td>0</td>\n",
              "      <td>0</td>\n",
              "      <td>0</td>\n",
              "      <td>1</td>\n",
              "      <td>0</td>\n",
              "    </tr>\n",
              "    <tr>\n",
              "      <th>44966</th>\n",
              "      <td>38.0</td>\n",
              "      <td>0</td>\n",
              "      <td>0</td>\n",
              "      <td>24.33</td>\n",
              "      <td>4.0</td>\n",
              "      <td>158</td>\n",
              "      <td>1</td>\n",
              "      <td>0</td>\n",
              "      <td>0</td>\n",
              "      <td>0</td>\n",
              "      <td>1</td>\n",
              "      <td>0</td>\n",
              "      <td>0</td>\n",
              "      <td>0</td>\n",
              "    </tr>\n",
              "    <tr>\n",
              "      <th>13568</th>\n",
              "      <td>26.0</td>\n",
              "      <td>0</td>\n",
              "      <td>0</td>\n",
              "      <td>18.87</td>\n",
              "      <td>5.0</td>\n",
              "      <td>100</td>\n",
              "      <td>1</td>\n",
              "      <td>0</td>\n",
              "      <td>0</td>\n",
              "      <td>0</td>\n",
              "      <td>0</td>\n",
              "      <td>0</td>\n",
              "      <td>0</td>\n",
              "      <td>1</td>\n",
              "    </tr>\n",
              "    <tr>\n",
              "      <th>92727</th>\n",
              "      <td>61.0</td>\n",
              "      <td>1</td>\n",
              "      <td>0</td>\n",
              "      <td>22.11</td>\n",
              "      <td>4.5</td>\n",
              "      <td>85</td>\n",
              "      <td>1</td>\n",
              "      <td>0</td>\n",
              "      <td>0</td>\n",
              "      <td>1</td>\n",
              "      <td>0</td>\n",
              "      <td>0</td>\n",
              "      <td>0</td>\n",
              "      <td>0</td>\n",
              "    </tr>\n",
              "  </tbody>\n",
              "</table>\n",
              "</div>"
            ],
            "text/plain": [
              "        age  hypertension  heart_disease    bmi  HbA1c_level  \\\n",
              "75220  73.0             0              0  24.77          3.5   \n",
              "48955  80.0             0              0  24.60          5.7   \n",
              "44966  38.0             0              0  24.33          4.0   \n",
              "13568  26.0             0              0  18.87          5.0   \n",
              "92727  61.0             1              0  22.11          4.5   \n",
              "\n",
              "       blood_glucose_level  gender_Female  gender_Male  \\\n",
              "75220                   80              0            1   \n",
              "48955                  145              0            1   \n",
              "44966                  158              1            0   \n",
              "13568                  100              1            0   \n",
              "92727                   85              1            0   \n",
              "\n",
              "       smoking_history_No Info  smoking_history_current  smoking_history_ever  \\\n",
              "75220                        0                        0                     0   \n",
              "48955                        0                        0                     0   \n",
              "44966                        0                        0                     1   \n",
              "13568                        0                        0                     0   \n",
              "92727                        0                        1                     0   \n",
              "\n",
              "       smoking_history_former  smoking_history_never  \\\n",
              "75220                       1                      0   \n",
              "48955                       0                      1   \n",
              "44966                       0                      0   \n",
              "13568                       0                      0   \n",
              "92727                       0                      0   \n",
              "\n",
              "       smoking_history_not current  \n",
              "75220                            0  \n",
              "48955                            0  \n",
              "44966                            0  \n",
              "13568                            1  \n",
              "92727                            0  "
            ]
          },
          "execution_count": 105,
          "metadata": {},
          "output_type": "execute_result"
        }
      ],
      "source": [
        "xTrain.head()"
      ]
    },
    {
      "cell_type": "code",
      "execution_count": 106,
      "metadata": {},
      "outputs": [
        {
          "data": {
            "text/plain": [
              "75220    0\n",
              "48955    1\n",
              "44966    0\n",
              "13568    0\n",
              "92727    0\n",
              "Name: diabetes, dtype: int64"
            ]
          },
          "execution_count": 106,
          "metadata": {},
          "output_type": "execute_result"
        }
      ],
      "source": [
        "yTrain.head()"
      ]
    },
    {
      "cell_type": "markdown",
      "metadata": {},
      "source": [
        "6. **Normalization/Standardization of Numerical Features**:\n",
        "\n",
        "    - Normalize or standardize numerical features if necessary. Describe the technique used (e.g., Min-Max scaling, StandardScaler) and explain why it is suitable for this dataset.\n",
        "\n",
        "    - Ensure that this technique is applied only to the training data, with the same transformation subsequently applied to the test data without fitting on it."
      ]
    },
    {
      "cell_type": "markdown",
      "metadata": {},
      "source": [
        "I will be applying standart scaling to [bmi, h1a1clevel, and bloodglucoselevel] as we need their values to be standardized for the following steps. (I didn't chose min-max as for the outliers that might cause issues with min-max scaling)\n",
        "I also applied min-max scaling to the age attribute as it has no outliers and will be easier to process."
      ]
    },
    {
      "cell_type": "code",
      "execution_count": 107,
      "metadata": {},
      "outputs": [],
      "source": [
        "#features for normalization\n",
        "standardizeFeatures = ['bmi', 'HbA1c_level', 'blood_glucose_level']\n",
        "minmaxFeatures = ['age']\n",
        "\n",
        "#initing both scalers\n",
        "scaler1 = StandardScaler()\n",
        "scaler2 = MinMaxScaler()\n",
        "\n",
        "#fitting the scaler on training and transforming the training data\n",
        "xTrain[standardizeFeatures] = scaler1.fit_transform(xTrain[standardizeFeatures])\n",
        "xTrain[minmaxFeatures] = scaler2.fit_transform(xTrain[minmaxFeatures])\n",
        "\n",
        "#transforming test data NO fitting again\n",
        "xTest[standardizeFeatures] = scaler1.transform(xTest[standardizeFeatures])\n",
        "xTest[minmaxFeatures] = scaler2.transform(xTest[minmaxFeatures])"
      ]
    },
    {
      "cell_type": "code",
      "execution_count": 108,
      "metadata": {},
      "outputs": [
        {
          "data": {
            "text/html": [
              "<div>\n",
              "<style scoped>\n",
              "    .dataframe tbody tr th:only-of-type {\n",
              "        vertical-align: middle;\n",
              "    }\n",
              "\n",
              "    .dataframe tbody tr th {\n",
              "        vertical-align: top;\n",
              "    }\n",
              "\n",
              "    .dataframe thead th {\n",
              "        text-align: right;\n",
              "    }\n",
              "</style>\n",
              "<table border=\"1\" class=\"dataframe\">\n",
              "  <thead>\n",
              "    <tr style=\"text-align: right;\">\n",
              "      <th></th>\n",
              "      <th>age</th>\n",
              "      <th>hypertension</th>\n",
              "      <th>heart_disease</th>\n",
              "      <th>bmi</th>\n",
              "      <th>HbA1c_level</th>\n",
              "      <th>blood_glucose_level</th>\n",
              "      <th>gender_Female</th>\n",
              "      <th>gender_Male</th>\n",
              "      <th>smoking_history_No Info</th>\n",
              "      <th>smoking_history_current</th>\n",
              "      <th>smoking_history_ever</th>\n",
              "      <th>smoking_history_former</th>\n",
              "      <th>smoking_history_never</th>\n",
              "      <th>smoking_history_not current</th>\n",
              "    </tr>\n",
              "  </thead>\n",
              "  <tbody>\n",
              "    <tr>\n",
              "      <th>75220</th>\n",
              "      <td>0.912412</td>\n",
              "      <td>0</td>\n",
              "      <td>0</td>\n",
              "      <td>-0.386474</td>\n",
              "      <td>-1.892451</td>\n",
              "      <td>-1.425157</td>\n",
              "      <td>0</td>\n",
              "      <td>1</td>\n",
              "      <td>0</td>\n",
              "      <td>0</td>\n",
              "      <td>0</td>\n",
              "      <td>1</td>\n",
              "      <td>0</td>\n",
              "      <td>0</td>\n",
              "    </tr>\n",
              "    <tr>\n",
              "      <th>48955</th>\n",
              "      <td>1.000000</td>\n",
              "      <td>0</td>\n",
              "      <td>0</td>\n",
              "      <td>-0.412172</td>\n",
              "      <td>0.162169</td>\n",
              "      <td>0.170591</td>\n",
              "      <td>0</td>\n",
              "      <td>1</td>\n",
              "      <td>0</td>\n",
              "      <td>0</td>\n",
              "      <td>0</td>\n",
              "      <td>0</td>\n",
              "      <td>1</td>\n",
              "      <td>0</td>\n",
              "    </tr>\n",
              "    <tr>\n",
              "      <th>44966</th>\n",
              "      <td>0.474474</td>\n",
              "      <td>0</td>\n",
              "      <td>0</td>\n",
              "      <td>-0.452986</td>\n",
              "      <td>-1.425492</td>\n",
              "      <td>0.489740</td>\n",
              "      <td>1</td>\n",
              "      <td>0</td>\n",
              "      <td>0</td>\n",
              "      <td>0</td>\n",
              "      <td>1</td>\n",
              "      <td>0</td>\n",
              "      <td>0</td>\n",
              "      <td>0</td>\n",
              "    </tr>\n",
              "    <tr>\n",
              "      <th>13568</th>\n",
              "      <td>0.324324</td>\n",
              "      <td>0</td>\n",
              "      <td>0</td>\n",
              "      <td>-1.278339</td>\n",
              "      <td>-0.491574</td>\n",
              "      <td>-0.934157</td>\n",
              "      <td>1</td>\n",
              "      <td>0</td>\n",
              "      <td>0</td>\n",
              "      <td>0</td>\n",
              "      <td>0</td>\n",
              "      <td>0</td>\n",
              "      <td>0</td>\n",
              "      <td>1</td>\n",
              "    </tr>\n",
              "    <tr>\n",
              "      <th>92727</th>\n",
              "      <td>0.762262</td>\n",
              "      <td>1</td>\n",
              "      <td>0</td>\n",
              "      <td>-0.788570</td>\n",
              "      <td>-0.958533</td>\n",
              "      <td>-1.302407</td>\n",
              "      <td>1</td>\n",
              "      <td>0</td>\n",
              "      <td>0</td>\n",
              "      <td>1</td>\n",
              "      <td>0</td>\n",
              "      <td>0</td>\n",
              "      <td>0</td>\n",
              "      <td>0</td>\n",
              "    </tr>\n",
              "  </tbody>\n",
              "</table>\n",
              "</div>"
            ],
            "text/plain": [
              "            age  hypertension  heart_disease       bmi  HbA1c_level  \\\n",
              "75220  0.912412             0              0 -0.386474    -1.892451   \n",
              "48955  1.000000             0              0 -0.412172     0.162169   \n",
              "44966  0.474474             0              0 -0.452986    -1.425492   \n",
              "13568  0.324324             0              0 -1.278339    -0.491574   \n",
              "92727  0.762262             1              0 -0.788570    -0.958533   \n",
              "\n",
              "       blood_glucose_level  gender_Female  gender_Male  \\\n",
              "75220            -1.425157              0            1   \n",
              "48955             0.170591              0            1   \n",
              "44966             0.489740              1            0   \n",
              "13568            -0.934157              1            0   \n",
              "92727            -1.302407              1            0   \n",
              "\n",
              "       smoking_history_No Info  smoking_history_current  smoking_history_ever  \\\n",
              "75220                        0                        0                     0   \n",
              "48955                        0                        0                     0   \n",
              "44966                        0                        0                     1   \n",
              "13568                        0                        0                     0   \n",
              "92727                        0                        1                     0   \n",
              "\n",
              "       smoking_history_former  smoking_history_never  \\\n",
              "75220                       1                      0   \n",
              "48955                       0                      1   \n",
              "44966                       0                      0   \n",
              "13568                       0                      0   \n",
              "92727                       0                      0   \n",
              "\n",
              "       smoking_history_not current  \n",
              "75220                            0  \n",
              "48955                            0  \n",
              "44966                            0  \n",
              "13568                            1  \n",
              "92727                            0  "
            ]
          },
          "execution_count": 108,
          "metadata": {},
          "output_type": "execute_result"
        }
      ],
      "source": [
        "#checking results\n",
        "xTrain.head()"
      ]
    },
    {
      "cell_type": "code",
      "execution_count": 109,
      "metadata": {},
      "outputs": [
        {
          "data": {
            "text/html": [
              "<div>\n",
              "<style scoped>\n",
              "    .dataframe tbody tr th:only-of-type {\n",
              "        vertical-align: middle;\n",
              "    }\n",
              "\n",
              "    .dataframe tbody tr th {\n",
              "        vertical-align: top;\n",
              "    }\n",
              "\n",
              "    .dataframe thead th {\n",
              "        text-align: right;\n",
              "    }\n",
              "</style>\n",
              "<table border=\"1\" class=\"dataframe\">\n",
              "  <thead>\n",
              "    <tr style=\"text-align: right;\">\n",
              "      <th></th>\n",
              "      <th>age</th>\n",
              "      <th>hypertension</th>\n",
              "      <th>heart_disease</th>\n",
              "      <th>bmi</th>\n",
              "      <th>HbA1c_level</th>\n",
              "      <th>blood_glucose_level</th>\n",
              "      <th>gender_Female</th>\n",
              "      <th>gender_Male</th>\n",
              "      <th>smoking_history_No Info</th>\n",
              "      <th>smoking_history_current</th>\n",
              "      <th>smoking_history_ever</th>\n",
              "      <th>smoking_history_former</th>\n",
              "      <th>smoking_history_never</th>\n",
              "      <th>smoking_history_not current</th>\n",
              "    </tr>\n",
              "  </thead>\n",
              "  <tbody>\n",
              "    <tr>\n",
              "      <th>75721</th>\n",
              "      <td>0.161662</td>\n",
              "      <td>0</td>\n",
              "      <td>0</td>\n",
              "      <td>-0.983570</td>\n",
              "      <td>0.255561</td>\n",
              "      <td>-0.295859</td>\n",
              "      <td>1</td>\n",
              "      <td>0</td>\n",
              "      <td>1</td>\n",
              "      <td>0</td>\n",
              "      <td>0</td>\n",
              "      <td>0</td>\n",
              "      <td>0</td>\n",
              "      <td>0</td>\n",
              "    </tr>\n",
              "    <tr>\n",
              "      <th>80184</th>\n",
              "      <td>0.036537</td>\n",
              "      <td>0</td>\n",
              "      <td>0</td>\n",
              "      <td>-0.956361</td>\n",
              "      <td>-0.491574</td>\n",
              "      <td>0.170591</td>\n",
              "      <td>1</td>\n",
              "      <td>0</td>\n",
              "      <td>1</td>\n",
              "      <td>0</td>\n",
              "      <td>0</td>\n",
              "      <td>0</td>\n",
              "      <td>0</td>\n",
              "      <td>0</td>\n",
              "    </tr>\n",
              "    <tr>\n",
              "      <th>19864</th>\n",
              "      <td>0.787287</td>\n",
              "      <td>0</td>\n",
              "      <td>0</td>\n",
              "      <td>-0.303335</td>\n",
              "      <td>-1.892451</td>\n",
              "      <td>1.520838</td>\n",
              "      <td>0</td>\n",
              "      <td>1</td>\n",
              "      <td>0</td>\n",
              "      <td>0</td>\n",
              "      <td>0</td>\n",
              "      <td>1</td>\n",
              "      <td>0</td>\n",
              "      <td>0</td>\n",
              "    </tr>\n",
              "    <tr>\n",
              "      <th>76699</th>\n",
              "      <td>0.024024</td>\n",
              "      <td>0</td>\n",
              "      <td>0</td>\n",
              "      <td>-1.496015</td>\n",
              "      <td>0.535736</td>\n",
              "      <td>-0.295859</td>\n",
              "      <td>1</td>\n",
              "      <td>0</td>\n",
              "      <td>0</td>\n",
              "      <td>0</td>\n",
              "      <td>0</td>\n",
              "      <td>0</td>\n",
              "      <td>1</td>\n",
              "      <td>0</td>\n",
              "    </tr>\n",
              "    <tr>\n",
              "      <th>92991</th>\n",
              "      <td>0.411912</td>\n",
              "      <td>0</td>\n",
              "      <td>0</td>\n",
              "      <td>1.927839</td>\n",
              "      <td>0.629128</td>\n",
              "      <td>1.520838</td>\n",
              "      <td>1</td>\n",
              "      <td>0</td>\n",
              "      <td>0</td>\n",
              "      <td>0</td>\n",
              "      <td>0</td>\n",
              "      <td>0</td>\n",
              "      <td>0</td>\n",
              "      <td>1</td>\n",
              "    </tr>\n",
              "  </tbody>\n",
              "</table>\n",
              "</div>"
            ],
            "text/plain": [
              "            age  hypertension  heart_disease       bmi  HbA1c_level  \\\n",
              "75721  0.161662             0              0 -0.983570     0.255561   \n",
              "80184  0.036537             0              0 -0.956361    -0.491574   \n",
              "19864  0.787287             0              0 -0.303335    -1.892451   \n",
              "76699  0.024024             0              0 -1.496015     0.535736   \n",
              "92991  0.411912             0              0  1.927839     0.629128   \n",
              "\n",
              "       blood_glucose_level  gender_Female  gender_Male  \\\n",
              "75721            -0.295859              1            0   \n",
              "80184             0.170591              1            0   \n",
              "19864             1.520838              0            1   \n",
              "76699            -0.295859              1            0   \n",
              "92991             1.520838              1            0   \n",
              "\n",
              "       smoking_history_No Info  smoking_history_current  smoking_history_ever  \\\n",
              "75721                        1                        0                     0   \n",
              "80184                        1                        0                     0   \n",
              "19864                        0                        0                     0   \n",
              "76699                        0                        0                     0   \n",
              "92991                        0                        0                     0   \n",
              "\n",
              "       smoking_history_former  smoking_history_never  \\\n",
              "75721                       0                      0   \n",
              "80184                       0                      0   \n",
              "19864                       1                      0   \n",
              "76699                       0                      1   \n",
              "92991                       0                      0   \n",
              "\n",
              "       smoking_history_not current  \n",
              "75721                            0  \n",
              "80184                            0  \n",
              "19864                            0  \n",
              "76699                            0  \n",
              "92991                            1  "
            ]
          },
          "execution_count": 109,
          "metadata": {},
          "output_type": "execute_result"
        }
      ],
      "source": [
        "xTest.head()"
      ]
    },
    {
      "cell_type": "markdown",
      "metadata": {},
      "source": [
        "## Model Development & Evaluation\n",
        "\n",
        "7. **Model Development**:\n",
        "\n",
        "    - Implement the machine learning models covered in class: Decision Trees, K-Nearest Neighbors (KNN), and Logistic Regression. Use the default parameters of scikit-learn as a baseline for training each model."
      ]
    },
    {
      "cell_type": "code",
      "execution_count": 110,
      "metadata": {},
      "outputs": [],
      "source": [
        "# decision tree\n",
        "decisionTree = DecisionTreeClassifier(random_state=42)\n",
        "decisionTree.fit(xTrain,yTrain) #training the model\n",
        "decTreePredictions = decisionTree.predict(xTest) #predicting on the testset\n",
        "\n",
        "decTreeAccuracy = accuracy_score(yTest, decTreePredictions) #accuract of the prediction\n",
        "\n",
        "# knn\n",
        "kNearNeighbors = KNeighborsClassifier()\n",
        "kNearNeighbors.fit(xTrain,yTrain)#training\n",
        "knnPredictions = kNearNeighbors.predict(xTest)#predictions\n",
        "\n",
        "knnAccuracy = accuracy_score(yTest,knnPredictions)#accuracy\n",
        "\n",
        "# logistic regression\n",
        "logitReg = LogisticRegression(random_state=42, max_iter=1000)\n",
        "logitReg.fit(xTrain,yTrain)#train\n",
        "logitRegPredictions = logitReg.predict(xTest)#predict\n",
        "\n",
        "logitRegAccuracy = accuracy_score(yTest, logitRegPredictions)#accuracy"
      ]
    },
    {
      "cell_type": "code",
      "execution_count": 111,
      "metadata": {},
      "outputs": [
        {
          "name": "stdout",
          "output_type": "stream",
          "text": [
            "Decision tree    accuracy is: 0.9522 \n",
            "\n",
            "K Near Neighbour accuracy is: 0.9633 \n",
            "\n",
            "Logit Regression accuracy is: 0.9592 \n",
            "\n"
          ]
        }
      ],
      "source": [
        "print(f\"Decision tree    accuracy is: {decTreeAccuracy:.4f} \\n\")\n",
        "print(f\"K Near Neighbour accuracy is: {knnAccuracy:.4f} \\n\")\n",
        "print(f\"Logit Regression accuracy is: {logitRegAccuracy:.4f} \\n\")"
      ]
    },
    {
      "cell_type": "markdown",
      "metadata": {},
      "source": [
        "8. **Model Evaluation**:\n",
        "\n",
        "    - Use cross-validation to evaluate each model, justifying your choice of the number of folds.\n",
        "\n",
        "    - Assess the models using metrics such as precision, recall, and F1-score."
      ]
    },
    {
      "cell_type": "code",
      "execution_count": 112,
      "metadata": {},
      "outputs": [],
      "source": [
        "#number of cross validation\n",
        "folds = 5\n",
        "\n",
        "# cross validations\n",
        "#Decision Tree\n",
        "dtCrossValScores = cross_val_score(decisionTree, xTrain, yTrain, cv=folds)            #cross val\n",
        "dtCrossValPredictions = cross_val_predict(decisionTree, xTest, yTest, cv=folds)       #prediction\n",
        "dtPrecision = precision_score(yTest, dtCrossValPredictions)                            #precision\n",
        "dtRecall = recall_score(yTest, dtCrossValPredictions)                                  #recall\n",
        "dtF1 = f1_score(yTest, dtCrossValPredictions)                                          #f1\n",
        "\n",
        "#KNN\n",
        "knnCrossValScores = cross_val_score(kNearNeighbors, xTrain, yTrain, cv=folds)         #cross val\n",
        "knnCrossValPredictions = cross_val_predict(kNearNeighbors, xTest, yTest, cv=folds)    #prediction\n",
        "knnPrecision = precision_score(yTest, knnCrossValPredictions)                          #precision\n",
        "knnRecall = recall_score(yTest, knnCrossValPredictions)                                #recall\n",
        "knnF1 = f1_score(yTest, knnCrossValPredictions)                                        #f1\n",
        "\n",
        "#Logistic Regression\n",
        "logitCrossValScores = cross_val_score(logitReg, xTrain, yTrain, cv=folds)             #cross val\n",
        "logitCrossValPredictions = cross_val_predict(logitReg, xTest, yTest, cv=folds)        #prediction\n",
        "logitPrecision = precision_score(yTest, logitCrossValPredictions)                      #precision\n",
        "logitRecall = recall_score(yTest, logitCrossValPredictions)                            #recall\n",
        "logitF1 = f1_score(yTest, logitCrossValPredictions)                                    #f1"
      ]
    },
    {
      "cell_type": "code",
      "execution_count": 113,
      "metadata": {},
      "outputs": [
        {
          "name": "stdout",
          "output_type": "stream",
          "text": [
            "Decision Tree    Cross Validation Accuracy: 0.9511\n",
            "K Near Neighbor  Cross Validation Accuracy: 0.9625\n",
            "Logit Regression Cross Validation Accuracy: 0.9607\n",
            "\n",
            "Decision Tree;       \n",
            "Precision: 0.7038,\n",
            "Recall: 0.7441,\n",
            "F1-Score: 0.7234\n",
            "\n",
            "\n",
            "K Near Neighbor;     \n",
            "Precision: 0.8917,\n",
            "Recall: 0.5738,\n",
            "F1-Score: 0.6983\n",
            "\n",
            "\n",
            "Logistic Regression; \n",
            "Precision: 0.8596,\n",
            "Recall: 0.6235,\n",
            "F1-Score: 0.7228\n",
            "\n"
          ]
        }
      ],
      "source": [
        "#cross validation accuracies\n",
        "print(f\"Decision Tree    Cross Validation Accuracy: {dtCrossValScores.mean():.4f}\")\n",
        "print(f\"K Near Neighbor  Cross Validation Accuracy: {knnCrossValScores.mean():.4f}\")\n",
        "print(f\"Logit Regression Cross Validation Accuracy: {logitCrossValScores.mean():.4f}\")\n",
        "\n",
        "#precision\n",
        "print(f\"\\nDecision Tree;       \\nPrecision: {dtPrecision:.4f},\\nRecall: {dtRecall:.4f},\\nF1-Score: {dtF1:.4f}\\n\")\n",
        "#recall\n",
        "print(f\"\\nK Near Neighbor;     \\nPrecision: {knnPrecision:.4f},\\nRecall: {knnRecall:.4f},\\nF1-Score: {knnF1:.4f}\\n\")\n",
        "#f1\n",
        "print(f\"\\nLogistic Regression; \\nPrecision: {logitPrecision:.4f},\\nRecall: {logitRecall:.4f},\\nF1-Score: {logitF1:.4f}\\n\")"
      ]
    },
    {
      "cell_type": "markdown",
      "metadata": {},
      "source": [
        "Explanation:\n",
        "* I chose to do 5 folds as it is both efficient and reliable for training with the data compared to the smaller numbers, also as it takes less time than the bigger number folds to compute\n",
        "\n",
        "Explanation on the results:\n",
        "\n",
        "Decision Tree;       \n",
        "* Precision: 0.7038,>: around %70 were correct (in all the instances the model predicted as diabetic)\n",
        "* Recall: 0.7441,   >: model identified %74 correctly out of all diabetic cases\n",
        "* F1-Score: 0.7234  >: indicates moderate balance of precision and recall == around %72\n",
        "\n",
        "K Near Neighbor;     \n",
        "* Precision: 0.8917,>: around %89 are correct, the most precise of all 3 models\n",
        "* Recall: 0.5738,   >: identifies only %57 of the diabetic cases, the least precise of all 3 models\n",
        "* F1-Score: 0.6983  >: low f1 score as it has a low recall\n",
        "\n",
        "Logistic Regression; \n",
        "* Precision: 0.8596,>: around %85 were correct\n",
        "* Recall: 0.6235,   >: identified %62 correctly of the diebatic cases\n",
        "* F1-Score: 0.7228  >: indicates moderate balance of precision and recall == around %72\n",
        "\n",
        "Overall, \n",
        "* KNearest Neighbour is very precise but has low recall,\n",
        "* Decision Tree and Logistic Tree are closer to each other as LT has a higher precision while DT having a higher recall and roughly both models having the same f1 scores compared\n"
      ]
    },
    {
      "cell_type": "markdown",
      "metadata": {},
      "source": [
        "## Hyperparameter Optimization\n",
        "\n",
        "9. **Exploration and Performance Evaluation:**\n",
        "\n",
        "    - Investigate the impact of varying hyperparameter values on the performance of each model.\n",
        "\n",
        "    - Focus on the following relevant hyperparameters for each model:\n",
        "\n",
        "        - [DecisionTreeClassifier](https://scikit-learn.org/dev/modules/generated/sklearn.tree.DecisionTreeClassifier.html): `criterion` and `max_depth`.\n",
        "  \n",
        "        - [LogisticRegression](https://scikit-learn.org/1.5/modules/generated/sklearn.linear_model.LogisticRegression.html): `penalty`, `max_iter`, and `tol`.\n",
        "  \n",
        "        - [KNeighborsClassifier](https://scikit-learn.org/dev/modules/generated/sklearn.neighbors.KNeighborsClassifier.html): `n_neighbors` and `weights`.\n",
        "\n",
        "    - Employ a grid search strategy or utilize scikit-learn's built-in methods to thoroughly evaluate all combinations of hyperparameter values. Cross-validation should be used to assess each combination.\n",
        "\n",
        "    - Quantify the performance of each hyperparameter configuration using precision, recall, and F1-score as metrics.\n",
        "\n",
        "    - Display the results in a tabular or graphical format (e.g., line charts, bar charts) to effectively demonstrate the influence of hyperparameter variations on model performance.\n",
        "\n",
        "    - Specify the default values for each hyperparameter tested.\n",
        "\n",
        "    - Analyze the findings and offer insights into which hyperparameter configurations achieved optimal performance for each model."
      ]
    },
    {
      "cell_type": "code",
      "execution_count": 114,
      "metadata": {},
      "outputs": [
        {
          "name": "stdout",
          "output_type": "stream",
          "text": [
            "\n"
          ]
        }
      ],
      "source": [
        "scoring = 'f1'  #f1 scoring\n",
        "# Hyperparameter grid for each model\n",
        "#Decision tree\n",
        "dt_params = {\n",
        "    'criterion': ['gini', 'entropy'],\n",
        "    'max_depth': [None, 5, 10, 15]\n",
        "}\n",
        "#Logistic regression\n",
        "logit_params = {\n",
        "    'penalty': ['l2', None],     #penalty[]*tol[] > plot\n",
        "    'max_iter': [100, 200, 500], #x\n",
        "    'tol': [1e-4, 1e-3, 1e-2]\n",
        "}\n",
        "#K Nearest Neighbors\n",
        "knn_params = {\n",
        "    'n_neighbors': [3, 5, 7, 9, 11],    # 'n_neighbors': [5, 20, 50, 100],didnt work\n",
        "    'weights': ['uniform', 'distance']\n",
        "}\n",
        "#initing models\n",
        "dtModel = DecisionTreeClassifier(random_state=42)\n",
        "logitModel = LogisticRegression(random_state=42)\n",
        "knnModel = KNeighborsClassifier()\n",
        "\n",
        "#gridSearchCV for each model\n",
        "#decision tree\n",
        "dtGrid = GridSearchCV(dtModel, dt_params, cv=folds, scoring=scoring)\n",
        "dtGrid.fit(xTrain, yTrain)\n",
        "#logistic regression\n",
        "logitGrid = GridSearchCV(logitModel, logit_params, cv=folds, scoring=scoring)\n",
        "logitGrid.fit(xTrain, yTrain)\n",
        "#KNN\n",
        "knnGrid = GridSearchCV(knnModel, knn_params, cv=folds, scoring=scoring)\n",
        "knnGrid.fit(xTrain, yTrain)\n",
        "print(\"\")"
      ]
    },
    {
      "cell_type": "code",
      "execution_count": 115,
      "metadata": {},
      "outputs": [
        {
          "name": "stdout",
          "output_type": "stream",
          "text": [
            "Decision Tree best params       :   {'criterion': 'entropy', 'max_depth': 10},      F1-score: 0.8013\n",
            "Logistic Regression best params :   {'max_iter': 100, 'penalty': 'l2', 'tol': 0.0001},   F1-score: 0.7313\n",
            "K Nearest Neighbours best params:   {'n_neighbors': 3, 'weights': 'uniform'},     F1-score: 0.7385\n"
          ]
        }
      ],
      "source": [
        "#best hyperparameters & f1 scores\n",
        "print(f\"Decision Tree best params       :   {dtGrid.best_params_},      F1-score: {dtGrid.best_score_:.4f}\")\n",
        "print(f\"Logistic Regression best params :   {logitGrid.best_params_},   F1-score: {logitGrid.best_score_:.4f}\")\n",
        "print(f\"K Nearest Neighbours best params:   {knnGrid.best_params_},     F1-score: {knnGrid.best_score_:.4f}\")"
      ]
    },
    {
      "cell_type": "code",
      "execution_count": 116,
      "metadata": {},
      "outputs": [
        {
          "data": {
            "image/png": "[encoded data removed]",
            "text/plain": [
              "<Figure size 600x400 with 1 Axes>"
            ]
          },
          "metadata": {},
          "output_type": "display_data"
        }
      ],
      "source": [
        "# VISUALIZATION\n",
        "#   Hyperparameter Impacts individually\n",
        "#Decision Tree\n",
        "results_dt = pd.DataFrame(dtGrid.cv_results_)\n",
        "plt.figure(figsize=(6,4))\n",
        "sns.lineplot(data=results_dt, x='param_max_depth', y='mean_test_score', hue='param_criterion', palette=\"Accent\")\n",
        "plt.xlabel('Max Depth')\n",
        "plt.ylabel('Mean F1 Score')\n",
        "plt.title('Decision Tree: F1 Score of Max Depths for Different Criteria')\n",
        "plt.legend(title='')\n",
        "plt.show()"
      ]
    },
    {
      "cell_type": "code",
      "execution_count": 117,
      "metadata": {},
      "outputs": [
        {
          "data": {
            "image/png": "[encoded data removed]",
            "text/plain": [
              "<Figure size 600x400 with 1 Axes>"
            ]
          },
          "metadata": {},
          "output_type": "display_data"
        }
      ],
      "source": [
        "#Logistic Regression\n",
        "results_logit = pd.DataFrame(logitGrid.cv_results_)\n",
        "plt.figure(figsize=(6,4))\n",
        "sns.lineplot(data=results_logit, x='param_max_iter', y='mean_test_score', hue='param_tol', style='param_penalty', markers=True, palette=\"Accent\")\n",
        "plt.xlabel('Max Iterations')\n",
        "plt.ylabel('Mean F1 Score')\n",
        "plt.title('Logistic Regression: F1 Score vs Max Iterations with Penalties')\n",
        "plt.legend(title='')\n",
        "plt.show()"
      ]
    },
    {
      "cell_type": "code",
      "execution_count": 118,
      "metadata": {},
      "outputs": [
        {
          "data": {
            "image/png": "[encoded data removed]",
            "text/plain": [
              "<Figure size 600x400 with 1 Axes>"
            ]
          },
          "metadata": {},
          "output_type": "display_data"
        }
      ],
      "source": [
        "#KNN\n",
        "results_knn = pd.DataFrame(knnGrid.cv_results_)\n",
        "plt.figure(figsize=(6,4))\n",
        "sns.lineplot(data=results_knn, x='param_n_neighbors', y='mean_test_score', hue='param_weights', palette=\"Accent\")\n",
        "plt.xlabel('Number of Neighbors')\n",
        "plt.ylabel('Mean F1 Score')\n",
        "plt.title('KNN: F1 Score vs Number of Neighbors for Different Weights')\n",
        "plt.legend(title='')\n",
        "plt.show()"
      ]
    },
    {
      "cell_type": "code",
      "execution_count": 119,
      "metadata": {},
      "outputs": [],
      "source": [
        "#predictions of best estimators\n",
        "dtBest = dtGrid.best_estimator_\n",
        "logitBest = logitGrid.best_estimator_\n",
        "knnBest = knnGrid.best_estimator_\n",
        "\n",
        "#predictions on test set\n",
        "dtPredictions = dtBest.predict(xTest)\n",
        "logitPredictions = logitBest.predict(xTest)\n",
        "knnPredictions = knnBest.predict(xTest)\n",
        "\n",
        "#scores for each model\n",
        "#Decision Tree\n",
        "dtPrecision2 = precision_score(yTest, dtPredictions)           #precision\n",
        "dtRecall2 = recall_score(yTest, dtPredictions)                 #recall\n",
        "dtF12 = f1_score(yTest, dtPredictions)                         #f1\n",
        "\n",
        "#Logistic Regression\n",
        "logitPrecision2 = precision_score(yTest, logitPredictions)     #precision\n",
        "logitRecall2 = recall_score(yTest, logitPredictions)           #recall\n",
        "logitF12 = f1_score(yTest, logitPredictions)                   #f1\n",
        "\n",
        "#KNN\n",
        "knnPrecision2 = precision_score(yTest, knnPredictions)         #precision\n",
        "knnRecall2 = recall_score(yTest, knnPredictions)               #recall\n",
        "knnF12 = f1_score(yTest, knnPredictions)                       #f1\n",
        "\n",
        "#visualization\n",
        "scoreData = {\n",
        "    'Model': ['Decision Tree', 'Logistic Regression', 'KNN'],\n",
        "    'Precision': [dtPrecision2, logitPrecision2, knnPrecision2],\n",
        "    'Recall': [dtRecall2, logitRecall2, knnRecall2],\n",
        "    'F1 Score': [dtF12, logitF12, knnF12]\n",
        "}\n",
        "scoresDf = pd.DataFrame(scoreData)"
      ]
    },
    {
      "cell_type": "code",
      "execution_count": 120,
      "metadata": {},
      "outputs": [
        {
          "data": {
            "image/png": "[encoded data removed]",
            "text/plain": [
              "<Figure size 600x400 with 1 Axes>"
            ]
          },
          "metadata": {},
          "output_type": "display_data"
        }
      ],
      "source": [
        "# Comparisons\n",
        "#precision \n",
        "plt.figure(figsize=(6, 4))\n",
        "sns.barplot(x='Model', y='Precision', hue='Model', data=scoresDf, palette='tab20b', legend=False) #Pastel1 #Set1\n",
        "plt.title('Precision Comparison')\n",
        "plt.ylabel('Precision')\n",
        "plt.show()"
      ]
    },
    {
      "cell_type": "code",
      "execution_count": 121,
      "metadata": {},
      "outputs": [
        {
          "data": {
            "image/png": "[encoded data removed]",
            "text/plain": [
              "<Figure size 600x400 with 1 Axes>"
            ]
          },
          "metadata": {},
          "output_type": "display_data"
        }
      ],
      "source": [
        "#recall\n",
        "plt.figure(figsize=(6, 4))\n",
        "sns.barplot(x='Model', y='Recall', hue='Model', data=scoresDf, palette='tab20b', legend=False)\n",
        "plt.title('Recall Comparison')\n",
        "plt.ylabel('Recall')\n",
        "plt.show()"
      ]
    },
    {
      "cell_type": "code",
      "execution_count": 125,
      "metadata": {},
      "outputs": [
        {
          "data": {
            "image/png": "[encoded data removed]",
            "text/plain": [
              "<Figure size 600x400 with 1 Axes>"
            ]
          },
          "metadata": {},
          "output_type": "display_data"
        }
      ],
      "source": [
        "#f1\n",
        "plt.figure(figsize=(6, 4))\n",
        "sns.barplot(x='Model', y='F1 Score', hue='Model', data=scoresDf, palette='tab20b', legend=False) \n",
        "plt.title('F1 Score Comparison')\n",
        "plt.ylabel('F1 Score')\n",
        "plt.show()"
      ]
    },
    {
      "cell_type": "markdown",
      "metadata": {},
      "source": [
        "## Analysis of Results\n",
        "\n",
        "10. **Model Comparison**:\n",
        "\n",
        "    - Compare the results obtained from each model.\n",
        "\n",
        "    - Discuss observed differences in model performance, providing potential explanations. Consider aspects such as model complexity, data imbalance, overfitting, and the impact of parameter tuning on overall results.\n",
        "\n",
        "    - Provide recommendations on which model(s) to choose for this task and justify your choices based on the analysis results.\n",
        "\n",
        "    - Train the recommended model(s) using the optimal parameter values identified from the parameter optimization step. Subsequently, apply the trained model to the test data. Document your observations comprehensively. Specifically, evaluate whether the results derived from cross-validation are consistent with those obtained from the test set."
      ]
    },
    {
      "cell_type": "markdown",
      "metadata": {},
      "source": [
        "* Decision Tree:\n",
        "The best f1 score is F1-score: 0.8013 \n",
        "and the best parameters are:   {'criterion': 'entropy', 'max_depth': 10}\n",
        "\n",
        "* Logistic Regression:\n",
        "The best f1 score is F1-score: 0.7313\n",
        "and the best parameters are:   {'max_iter': 100, 'penalty': 'l2', 'tol': 0.0001},   \n",
        "\n",
        "* KNN:\n",
        "The best f1 score is F1-score: 0.7385\n",
        "and the best parameters are:   {'n_neighbors': 3, 'weights': 'uniform'},     \n",
        "\n",
        "In the last visuals seen just above this section, the Decision Tree has the best scores in precision, recall and f1 compared to the other two models. Also considering the previous findings above with the best parameters, the best model for the following steps is our Decision tree model."
      ]
    },
    {
      "cell_type": "markdown",
      "metadata": {},
      "source": [
        "* Model Complexity:\\\n",
        "DT: We can work with different values of max_depth, thus can adapt our Decision Tree's complexity. By avoiding a higher depth we can avoid overfitting issues with our model.\\\n",
        "LR: As this is a linear model, may not adapt best when our data is not linearly separable, i believe this is the reason to our low f1 score in the linear regression model.\\\n",
        "KNN: Our k near neighbour model is sensitive to our chosen n_neighbours which migh lead to high variability and cause a decreased accuracy.\n",
        "\n",
        "* Data Imbalance:\\\n",
        "DT: Using entropy as our criterion, decision tree can handle imbalances better compared to the other two models.  \\\n",
        "LR, KNN: On data imbalances, these two models would not be adaptible as much as the decision tree when one class dominates the others.\n",
        "\n",
        "* Overfitting:\\\n",
        "DT: Decision tree can overfit if we have a high depth but we can limit that by setting max_depth=10 as the best parameter to avoid the issue.\\\n",
        "LR: Linear regression may underperform with our nonlinear data but because of that, not overfit.\\\n",
        "KNN: If we choose lesser/fewer neighbours than the suggested parameter, our KNN model might overfit as it will become sensitive to each unique data result.\n",
        "\n",
        "* Impact of Parameter Tuning:\\\n",
        "DT: Tuning max_depth and criterion is useful as we saw the increase of the f1 score of the model exceeding the f1's of other two models by playing with those values to find the best match. \\\n",
        "LR: Tuning was useful in the LR model as well as it increased the f1 score a little bit but not as much as the DT model.\\\n",
        "KNN: By tuning to n_neighbours=3, KNN model had a moderate f1 score but was lower than of the DT model's score."
      ]
    },
    {
      "cell_type": "markdown",
      "metadata": {},
      "source": [
        "Based on my results comparing the three models, the Decision Tree model consistently had the best results compared to the other two.\n",
        "- It has a higher score on all three of the Precision, Recall, and F1 Scores (Especially when the best parameters were applied to each model).\n",
        "- It is flexible for the nonlinear applications and for handling our imbalanced data.\n",
        "\n",
        "Thus, I believe it is the best option to continue forward in this assignment in our models by using the best parameters for it."
      ]
    },
    {
      "cell_type": "markdown",
      "metadata": {},
      "source": [
        "### Training the model"
      ]
    },
    {
      "cell_type": "code",
      "execution_count": 123,
      "metadata": {},
      "outputs": [],
      "source": [
        "#Training the model using the optimal parameter values #best params:{'criterion': 'entropy', 'max_depth': 10}\n",
        "bestDecisionTreeMModel = DecisionTreeClassifier(criterion='entropy', max_depth=10, random_state=42)\n",
        "bestDecisionTreeMModel.fit(xTrain, yTrain)\n",
        "\n",
        "#Applying model to test data. \n",
        "dtTestPredcitions = bestDecisionTreeMModel.predict(xTest) #prediction for the test set\n",
        "dtPrecisionTEST = precision_score(yTest, dtTestPredcitions)\n",
        "dtRecallTEST = recall_score(yTest, dtTestPredcitions)\n",
        "dtF1TEST = f1_score(yTest, dtTestPredcitions)\n",
        "dtAccuracyTEST = accuracy_score(yTest, dtTestPredcitions)"
      ]
    },
    {
      "cell_type": "code",
      "execution_count": 124,
      "metadata": {},
      "outputs": [
        {
          "name": "stdout",
          "output_type": "stream",
          "text": [
            "Decision Tree results on the test set:\n",
            "Precision: 0.9856\n",
            "Recall   : 0.6821\n",
            "F1       : 0.8062\n",
            "Accuracy : 0.9720\n"
          ]
        }
      ],
      "source": [
        "#seeing the results:\n",
        "print(\"Decision Tree results on the test set:\")\n",
        "print(f\"Precision: {dtPrecisionTEST:.4f}\")\n",
        "print(f\"Recall   : {dtRecallTEST:.4f}\")\n",
        "print(f\"F1       : {dtF1TEST:.4f}\")\n",
        "print(f\"Accuracy : {dtAccuracyTEST:.4f}\")"
      ]
    },
    {
      "cell_type": "markdown",
      "metadata": {},
      "source": [
        "### Results:\n",
        "\n",
        "Cross Validation:\n",
        "* Precision: 0.7038\n",
        "* Recall   : 0.7441\n",
        "* F1-Score : 0.7234\n",
        "* Accuracy : 0.9511\n",
        "\n",
        "Test Set: (after hyperparameter tuning)\n",
        "* Precision: 0.9856\n",
        "* Recall   : 0.6821\n",
        "* F1       : 0.8062\n",
        "* Accuracy : 0.9720\n",
        "\n",
        "Comparison of the results:\n",
        "* Accuracy  : The test accuracy (0.9720) is slight higher than the cross validation accuracy (0.9511). This result means our model is performing well on the new unseen data in our test set, thus, that our decision tree is trained well and works effectively. If, it is not actually an overfitting mistake.\n",
        "\n",
        "* Precision : The test sets precision result (0.9856) is significantly better than the cross validation's precision (0.7038). Measuring how correct the positive predictions are for our model, this result indicates that our model is less likely to make mistakes in it's positive assumptions.\n",
        "\n",
        "* Recall    : The test set's result (0.6821) is lower than of the cross validation result's recall (0.7441). Measuring the correct actual positive predictions, this decrease shows our model is missing on some positive cases in the test set compared to the cross validation folds.\n",
        "\n",
        "* F1 Score  : The test result f1 score (0.8062) is higher than of the cross validation f1 score (0.7234). This improvement is likely to be caused by the increase of the precision in the test set results compared to the cross validation results.\n",
        "\n",
        "Overall, considering the current version of the decision tree model with the current parameters with the high precision and f1 scores, I conclude this model is highly effective.\n"
      ]
    },
    {
      "cell_type": "markdown",
      "metadata": {},
      "source": [
        "## 2. Documentation of Exploratory Analysis\n",
        "\n",
        "The report should comprehensively document the entire process followed during this assignment. The Jupyter Notebook must include the following:\n",
        "\n",
        "- Your name(s), student number(s), and a report title.\n",
        "- Explain how the tasks have been split between the members. How did you make sure that both students achieve the learning outcomes? \n",
        "- A section for each step of the exploratory analysis, containing the relevant Python code and explanations or results.\n",
        "  - For sections requiring Python code, include the code in a cell.\n",
        "  - For sections requiring explanations or results, include these in a separate cell or in combination with code cells.\n",
        "- Ensure logical separation of code into different cells. For example, the definition of a function should be in one cell and its execution in another. Avoid placing too much code in a single cell to maintain clarity and readability.\n",
        "- The notebook you submit must include the results of the execution, complete with graphics, ensuring that the teaching assistant can grade the notebook without needing to execute the code.\n",
        "\n",
        "# Resources\n",
        "\n",
        "https://statisticseasily.com/histogram-shapes/ \\\n",
        "https://www.atlassian.com/data/charts/histogram-complete-guide \\\n",
        "https://www.labxchange.org/library/items/lb:LabXchange:10d3270e:html:1 \\\n",
        "https://www.presentationeze.com/presentations/statistical-process-control/statistical-process-control-full-details/histogram/interpreting-examples-histograms/ \\\n",
        "https://scikit-learn.org/stable/model_selection.html \\\n",
        "https://matplotlib.org/stable/users/explain/colors/colormaps.html \\\n",
        "https://scikit-learn.org/stable/modules/generated/sklearn.tree.DecisionTreeClassifier.html \\\n",
        "https://scikit-learn.org/1.5/modules/generated/sklearn.model_selection.GridSearchCV.html \\\n",
        "https://www.mygreatlearning.com/blog/gridsearchcv/ \\\n",
        "https://quantdare.com/decision-trees-gini-vs-entropy/ \\\n",
        "https://seaborn.pydata.org/examples/index.html \\\n",
        "https://seaborn.pydata.org/generated/seaborn.lineplot.html#seaborn.lineplot \\\n",
        "https://matplotlib.org/stable/users/explain/colors/colormaps.html \\\n",
        "https://seaborn.pydata.org/tutorial/color_palettes.html \\\n",
        "https://www.youtube.com/watch?v=12Z6JBLKpts \\\n",
        "https://www.tablesgenerator.com/markdown_tables \n",
        "\n",
        "(I have also revisited some of my first assignment resources)\n"
      ]
    }
  ],
  "metadata": {
    "kernelspec": {
      "display_name": "Python 3",
      "language": "python",
      "name": "python3"
    },
    "language_info": {
      "codemirror_mode": {
        "name": "ipython",
        "version": 3
      },
      "file_extension": ".py",
      "mimetype": "text/x-python",
      "name": "python",
      "nbconvert_exporter": "python",
      "pygments_lexer": "ipython3",
      "version": "3.11.0"
    }
  },
  "nbformat": 4,
  "nbformat_minor": 4
}
